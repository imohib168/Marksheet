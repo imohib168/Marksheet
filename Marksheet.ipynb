{
 "cells": [
  {
   "cell_type": "code",
   "execution_count": 1,
   "metadata": {},
   "outputs": [
    {
     "name": "stdout",
     "output_type": "stream",
     "text": [
      "Class 10 Marksheet: \n",
      "\n",
      "Enter your Name: Mohib\n",
      "Enter your Father Name: Ismail\n",
      "Enter your Roll Number: AIC016914\n",
      "Enter your School Name: PIAIC\n",
      "\n",
      "Enter your Urdu Marks /75: 70\n",
      "Enter your English Marks /75: 65\n",
      "Enter your Sindhi Marks /75: 63\n",
      "Enter your Maths Marks /100: 95\n",
      "Enter your Physics Marks /100: 76\n",
      "\n",
      "Your percentage = 86.82352941176471\n",
      "\n",
      "Congaratulations, with Percentage 86.82352941176471 you've secured 'A+ grade'. \n"
     ]
    }
   ],
   "source": [
    "print(\"Class 10 Marksheet: \")\n",
    "print()\n",
    "name = (input(\"Enter your Name: \"))\n",
    "f_name = (input(\"Enter your Father Name: \"))\n",
    "r_no = (input(\"Enter your Roll Number: \"))\n",
    "school_name = (input(\"Enter your School Name: \"))\n",
    "print()\n",
    "urdu_marks = int(input(\"Enter your Urdu Marks /75: \"))\n",
    "eng_marks = int(input(\"Enter your English Marks /75: \"))\n",
    "sin_marks = int(input(\"Enter your Sindhi Marks /75: \"))\n",
    "maths_marks = int(input(\"Enter your Maths Marks /100: \"))\n",
    "phy_marks = int(input(\"Enter your Physics Marks /100: \"))\n",
    "print()\n",
    "marks_total = (urdu_marks + eng_marks + sin_marks + maths_marks + phy_marks)\n",
    "perc = ((marks_total / 425) * 100)\n",
    "print(\"Your percentage =\",perc)\n",
    "print()\n",
    "if perc >80:\n",
    "    print(\"Congaratulations, with Percentage\", perc, \"you've secured 'A+ grade'. \")\n",
    "elif perc >70:\n",
    "    print(\"Congaratulations, with Percentage\", perc, \"you've secured 'A grade'. \")\n",
    "elif perc >50:\n",
    "    print(\"Congaratulations, with Percentage\", perc, \"you've secured 'B grade'. \")\n",
    "elif perc >30:\n",
    "    print(\"Not satisfying, with Percentage\", perc, \"you've secured 'C grade'. \")\n",
    "else:\n",
    "    print(\"Hard luck, with percentage\", perc, \"you're Fail. \")"
   ]
  },
  {
   "cell_type": "code",
   "execution_count": null,
   "metadata": {},
   "outputs": [],
   "source": []
  }
 ],
 "metadata": {
  "kernelspec": {
   "display_name": "Python 3",
   "language": "python",
   "name": "python3"
  },
  "language_info": {
   "codemirror_mode": {
    "name": "ipython",
    "version": 3
   },
   "file_extension": ".py",
   "mimetype": "text/x-python",
   "name": "python",
   "nbconvert_exporter": "python",
   "pygments_lexer": "ipython3",
   "version": "3.7.3"
  }
 },
 "nbformat": 4,
 "nbformat_minor": 2
}
